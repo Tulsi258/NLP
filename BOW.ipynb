{
 "cells": [
  {
   "cell_type": "code",
   "execution_count": 1,
   "id": "57ed9f0c",
   "metadata": {},
   "outputs": [],
   "source": [
    "import nltk"
   ]
  },
  {
   "cell_type": "code",
   "execution_count": 2,
   "id": "24b2713d",
   "metadata": {},
   "outputs": [],
   "source": [
    "paragraph = \"\"\"To the people of India, Dr APJ Abdul Kalam is no less than an inspiration. People had a great deal of admiration for him and addressed him as Sir APJ Abdul Kalam. This article consists of 3 types of APJ Abdul Kalam Speech In English For Students. The first one is a Long APJ Abdul Kalam Speech meant for students of class 9th and above. The second one is the usually spoken APJ Abdul Kalam Speech In School for students of class 5th and above while the third one is 10 lines About Abdul Kalam Speech for students of Class 1 and above for easier understanding.\"\"\""
   ]
  },
  {
   "cell_type": "code",
   "execution_count": 3,
   "id": "c8ba2ed1",
   "metadata": {},
   "outputs": [
    {
     "data": {
      "text/plain": [
       "'To the people of India, Dr APJ Abdul Kalam is no less than an inspiration. People had a great deal of admiration for him and addressed him as Sir APJ Abdul Kalam. This article consists of 3 types of APJ Abdul Kalam Speech In English For Students. The first one is a Long APJ Abdul Kalam Speech meant for students of class 9th and above. The second one is the usually spoken APJ Abdul Kalam Speech In School for students of class 5th and above while the third one is 10 lines About Abdul Kalam Speech for students of Class 1 and above for easier understanding.'"
      ]
     },
     "execution_count": 3,
     "metadata": {},
     "output_type": "execute_result"
    }
   ],
   "source": [
    "paragraph"
   ]
  },
  {
   "cell_type": "code",
   "execution_count": 4,
   "id": "9717bdd5",
   "metadata": {},
   "outputs": [],
   "source": [
    "#cleaning the data"
   ]
  },
  {
   "cell_type": "code",
   "execution_count": 5,
   "id": "8c2ed10e",
   "metadata": {},
   "outputs": [],
   "source": [
    "import re\n",
    "from nltk.corpus import stopwords\n",
    "from nltk.stem.porter import PorterStemmer\n",
    "from nltk.stem import WordNetLemmatizer"
   ]
  },
  {
   "cell_type": "code",
   "execution_count": 7,
   "id": "bdc24e77",
   "metadata": {},
   "outputs": [],
   "source": [
    "ps= PorterStemmer() #creating stemmer object\n",
    "wnl= WordNetLemmatizer() #creating lemmatizer object"
   ]
  },
  {
   "cell_type": "code",
   "execution_count": 9,
   "id": "4e633991",
   "metadata": {},
   "outputs": [
    {
     "data": {
      "text/plain": [
       "['To the people of India, Dr APJ Abdul Kalam is no less than an inspiration.',\n",
       " 'People had a great deal of admiration for him and addressed him as Sir APJ Abdul Kalam.',\n",
       " 'This article consists of 3 types of APJ Abdul Kalam Speech In English For Students.',\n",
       " 'The first one is a Long APJ Abdul Kalam Speech meant for students of class 9th and above.',\n",
       " 'The second one is the usually spoken APJ Abdul Kalam Speech In School for students of class 5th and above while the third one is 10 lines About Abdul Kalam Speech for students of Class 1 and above for easier understanding.']"
      ]
     },
     "execution_count": 9,
     "metadata": {},
     "output_type": "execute_result"
    }
   ],
   "source": [
    "sentences = nltk.sent_tokenize(paragraph)\n",
    "sentences"
   ]
  },
  {
   "cell_type": "code",
   "execution_count": 10,
   "id": "4722bad1",
   "metadata": {},
   "outputs": [
    {
     "data": {
      "text/plain": [
       "5"
      ]
     },
     "execution_count": 10,
     "metadata": {},
     "output_type": "execute_result"
    }
   ],
   "source": [
    "len(sentences)"
   ]
  },
  {
   "cell_type": "code",
   "execution_count": 33,
   "id": "5464270e",
   "metadata": {},
   "outputs": [],
   "source": [
    "corpus=[]\n",
    "for i in range(len(sentences)):\n",
    "    temp = re.sub('[^a-zA-Z0-9]',' ', sentences[i])\n",
    "    temp = temp.lower()\n",
    "    temp = temp.split()\n",
    "    temp = [wnl.lemmatize(word) for word in temp if not word in set(stopwords.words('english'))]\n",
    "    temp = ' '.join(temp)\n",
    "    corpus.append(temp)"
   ]
  },
  {
   "cell_type": "code",
   "execution_count": 34,
   "id": "0d43f4cb",
   "metadata": {},
   "outputs": [
    {
     "data": {
      "text/plain": [
       "['people india dr apj abdul kalam le inspiration',\n",
       " 'people great deal admiration addressed sir apj abdul kalam',\n",
       " 'article consists 3 type apj abdul kalam speech english student',\n",
       " 'first one long apj abdul kalam speech meant student class 9th',\n",
       " 'second one usually spoken apj abdul kalam speech school student class 5th third one 10 line abdul kalam speech student class 1 easier understanding']"
      ]
     },
     "execution_count": 34,
     "metadata": {},
     "output_type": "execute_result"
    }
   ],
   "source": [
    "corpus"
   ]
  },
  {
   "cell_type": "code",
   "execution_count": 35,
   "id": "5b86557f",
   "metadata": {},
   "outputs": [],
   "source": [
    "# Bag Of Words Model"
   ]
  },
  {
   "cell_type": "code",
   "execution_count": 36,
   "id": "0a83f453",
   "metadata": {},
   "outputs": [],
   "source": [
    "from sklearn.feature_extraction.text import CountVectorizer"
   ]
  },
  {
   "cell_type": "code",
   "execution_count": 37,
   "id": "c6709ebd",
   "metadata": {},
   "outputs": [],
   "source": [
    "countV = CountVectorizer(max_features=1500)\n",
    "res_out = countV.fit_transform(corpus).toarray()"
   ]
  },
  {
   "cell_type": "code",
   "execution_count": 38,
   "id": "69dbd6a3",
   "metadata": {},
   "outputs": [
    {
     "data": {
      "text/plain": [
       "array([[0, 0, 0, 1, 0, 0, 1, 0, 0, 0, 0, 1, 0, 0, 0, 0, 1, 1, 1, 1, 0, 0,\n",
       "        0, 0, 1, 0, 0, 0, 0, 0, 0, 0, 0, 0, 0],\n",
       "       [0, 0, 0, 1, 1, 1, 1, 0, 0, 0, 1, 0, 0, 0, 0, 1, 0, 0, 1, 0, 0, 0,\n",
       "        0, 0, 1, 0, 0, 1, 0, 0, 0, 0, 0, 0, 0],\n",
       "       [0, 0, 0, 1, 0, 0, 1, 1, 0, 1, 0, 0, 0, 1, 0, 0, 0, 0, 1, 0, 0, 0,\n",
       "        0, 0, 0, 0, 0, 0, 1, 0, 1, 0, 1, 0, 0],\n",
       "       [0, 0, 1, 1, 0, 0, 1, 0, 1, 0, 0, 0, 0, 0, 1, 0, 0, 0, 1, 0, 0, 1,\n",
       "        1, 1, 0, 0, 0, 0, 1, 0, 1, 0, 0, 0, 0],\n",
       "       [1, 1, 0, 2, 0, 0, 1, 0, 2, 0, 0, 0, 1, 0, 0, 0, 0, 0, 2, 0, 1, 0,\n",
       "        0, 2, 0, 1, 1, 0, 2, 1, 2, 1, 0, 1, 1]])"
      ]
     },
     "execution_count": 38,
     "metadata": {},
     "output_type": "execute_result"
    }
   ],
   "source": [
    "res_out"
   ]
  },
  {
   "cell_type": "code",
   "execution_count": null,
   "id": "7881b682",
   "metadata": {},
   "outputs": [],
   "source": []
  }
 ],
 "metadata": {
  "kernelspec": {
   "display_name": "Python 3 (ipykernel)",
   "language": "python",
   "name": "python3"
  },
  "language_info": {
   "codemirror_mode": {
    "name": "ipython",
    "version": 3
   },
   "file_extension": ".py",
   "mimetype": "text/x-python",
   "name": "python",
   "nbconvert_exporter": "python",
   "pygments_lexer": "ipython3",
   "version": "3.9.7"
  }
 },
 "nbformat": 4,
 "nbformat_minor": 5
}
