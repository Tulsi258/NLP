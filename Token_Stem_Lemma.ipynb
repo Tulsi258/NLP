{
 "cells": [
  {
   "cell_type": "code",
   "execution_count": 1,
   "id": "db07c729",
   "metadata": {},
   "outputs": [],
   "source": [
    "import nltk #NLTK is a standard python library that provides a set of diverse algorithms for NLP."
   ]
  },
  {
   "cell_type": "code",
   "execution_count": 2,
   "id": "9b6f8450",
   "metadata": {},
   "outputs": [],
   "source": [
    "paragraph = \"\"\"To the people of India, Dr APJ Abdul Kalam is no less than an inspiration. People had a great deal of admiration for him and addressed him as Sir APJ Abdul Kalam. This article consists of 3 types of APJ Abdul Kalam Speech In English For Students. The first one is a Long APJ Abdul Kalam Speech meant for students of class 9th and above. The second one is the usually spoken APJ Abdul Kalam Speech In School for students of class 5th and above while the third one is 10 lines About Abdul Kalam Speech for students of Class 1 and above for easier understanding.\"\"\""
   ]
  },
  {
   "cell_type": "code",
   "execution_count": 3,
   "id": "4186f842",
   "metadata": {},
   "outputs": [
    {
     "data": {
      "text/plain": [
       "'To the people of India, Dr APJ Abdul Kalam is no less than an inspiration. People had a great deal of admiration for him and addressed him as Sir APJ Abdul Kalam. This article consists of 3 types of APJ Abdul Kalam Speech In English For Students. The first one is a Long APJ Abdul Kalam Speech meant for students of class 9th and above. The second one is the usually spoken APJ Abdul Kalam Speech In School for students of class 5th and above while the third one is 10 lines About Abdul Kalam Speech for students of Class 1 and above for easier understanding.'"
      ]
     },
     "execution_count": 3,
     "metadata": {},
     "output_type": "execute_result"
    }
   ],
   "source": [
    "paragraph"
   ]
  },
  {
   "cell_type": "code",
   "execution_count": 4,
   "id": "6c4c416e",
   "metadata": {},
   "outputs": [
    {
     "data": {
      "text/plain": [
       "['To the people of India, Dr APJ Abdul Kalam is no less than an inspiration.',\n",
       " 'People had a great deal of admiration for him and addressed him as Sir APJ Abdul Kalam.',\n",
       " 'This article consists of 3 types of APJ Abdul Kalam Speech In English For Students.',\n",
       " 'The first one is a Long APJ Abdul Kalam Speech meant for students of class 9th and above.',\n",
       " 'The second one is the usually spoken APJ Abdul Kalam Speech In School for students of class 5th and above while the third one is 10 lines About Abdul Kalam Speech for students of Class 1 and above for easier understanding.']"
      ]
     },
     "execution_count": 4,
     "metadata": {},
     "output_type": "execute_result"
    }
   ],
   "source": [
    "sentences = nltk.sent_tokenize(paragraph)\n",
    "sentences"
   ]
  },
  {
   "cell_type": "code",
   "execution_count": 5,
   "id": "831e7f7a",
   "metadata": {},
   "outputs": [
    {
     "data": {
      "text/plain": [
       "5"
      ]
     },
     "execution_count": 5,
     "metadata": {},
     "output_type": "execute_result"
    }
   ],
   "source": [
    "len(sentences)"
   ]
  },
  {
   "cell_type": "code",
   "execution_count": 6,
   "id": "63cce309",
   "metadata": {},
   "outputs": [
    {
     "data": {
      "text/plain": [
       "['To',\n",
       " 'the',\n",
       " 'people',\n",
       " 'of',\n",
       " 'India',\n",
       " ',',\n",
       " 'Dr',\n",
       " 'APJ',\n",
       " 'Abdul',\n",
       " 'Kalam',\n",
       " 'is',\n",
       " 'no',\n",
       " 'less',\n",
       " 'than',\n",
       " 'an',\n",
       " 'inspiration',\n",
       " '.',\n",
       " 'People',\n",
       " 'had',\n",
       " 'a',\n",
       " 'great',\n",
       " 'deal',\n",
       " 'of',\n",
       " 'admiration',\n",
       " 'for',\n",
       " 'him',\n",
       " 'and',\n",
       " 'addressed',\n",
       " 'him',\n",
       " 'as',\n",
       " 'Sir',\n",
       " 'APJ',\n",
       " 'Abdul',\n",
       " 'Kalam',\n",
       " '.',\n",
       " 'This',\n",
       " 'article',\n",
       " 'consists',\n",
       " 'of',\n",
       " '3',\n",
       " 'types',\n",
       " 'of',\n",
       " 'APJ',\n",
       " 'Abdul',\n",
       " 'Kalam',\n",
       " 'Speech',\n",
       " 'In',\n",
       " 'English',\n",
       " 'For',\n",
       " 'Students',\n",
       " '.',\n",
       " 'The',\n",
       " 'first',\n",
       " 'one',\n",
       " 'is',\n",
       " 'a',\n",
       " 'Long',\n",
       " 'APJ',\n",
       " 'Abdul',\n",
       " 'Kalam',\n",
       " 'Speech',\n",
       " 'meant',\n",
       " 'for',\n",
       " 'students',\n",
       " 'of',\n",
       " 'class',\n",
       " '9th',\n",
       " 'and',\n",
       " 'above',\n",
       " '.',\n",
       " 'The',\n",
       " 'second',\n",
       " 'one',\n",
       " 'is',\n",
       " 'the',\n",
       " 'usually',\n",
       " 'spoken',\n",
       " 'APJ',\n",
       " 'Abdul',\n",
       " 'Kalam',\n",
       " 'Speech',\n",
       " 'In',\n",
       " 'School',\n",
       " 'for',\n",
       " 'students',\n",
       " 'of',\n",
       " 'class',\n",
       " '5th',\n",
       " 'and',\n",
       " 'above',\n",
       " 'while',\n",
       " 'the',\n",
       " 'third',\n",
       " 'one',\n",
       " 'is',\n",
       " '10',\n",
       " 'lines',\n",
       " 'About',\n",
       " 'Abdul',\n",
       " 'Kalam',\n",
       " 'Speech',\n",
       " 'for',\n",
       " 'students',\n",
       " 'of',\n",
       " 'Class',\n",
       " '1',\n",
       " 'and',\n",
       " 'above',\n",
       " 'for',\n",
       " 'easier',\n",
       " 'understanding',\n",
       " '.']"
      ]
     },
     "execution_count": 6,
     "metadata": {},
     "output_type": "execute_result"
    }
   ],
   "source": [
    "words = nltk.word_tokenize(paragraph)\n",
    "words"
   ]
  },
  {
   "cell_type": "code",
   "execution_count": 7,
   "id": "35400e5e",
   "metadata": {},
   "outputs": [
    {
     "data": {
      "text/plain": [
       "112"
      ]
     },
     "execution_count": 7,
     "metadata": {},
     "output_type": "execute_result"
    }
   ],
   "source": [
    "len(words)"
   ]
  },
  {
   "cell_type": "code",
   "execution_count": 8,
   "id": "70ebd41b",
   "metadata": {},
   "outputs": [],
   "source": [
    "# Stemming"
   ]
  },
  {
   "cell_type": "code",
   "execution_count": 9,
   "id": "a04e7dd4",
   "metadata": {},
   "outputs": [],
   "source": [
    "from nltk.stem import PorterStemmer\n",
    "from nltk.corpus import stopwords"
   ]
  },
  {
   "cell_type": "code",
   "execution_count": 10,
   "id": "bcdc1558",
   "metadata": {},
   "outputs": [],
   "source": [
    " paragraph = \"\"\"To the people of India, Dr APJ Abdul Kalam is no less than an inspiration. People had a great deal of admiration for him and addressed him as Sir APJ Abdul Kalam. This article consists of 3 types of APJ Abdul Kalam Speech In English For Students. The first one is a Long APJ Abdul Kalam Speech meant for students of class 9th and above. The second one is the usually spoken APJ Abdul Kalam Speech In School for students of class 5th and above while the third one is 10 lines About Abdul Kalam Speech for students of Class 1 and above for easier understanding.\"\"\""
   ]
  },
  {
   "cell_type": "code",
   "execution_count": 11,
   "id": "5172cc29",
   "metadata": {},
   "outputs": [
    {
     "data": {
      "text/plain": [
       "'To the people of India, Dr APJ Abdul Kalam is no less than an inspiration. People had a great deal of admiration for him and addressed him as Sir APJ Abdul Kalam. This article consists of 3 types of APJ Abdul Kalam Speech In English For Students. The first one is a Long APJ Abdul Kalam Speech meant for students of class 9th and above. The second one is the usually spoken APJ Abdul Kalam Speech In School for students of class 5th and above while the third one is 10 lines About Abdul Kalam Speech for students of Class 1 and above for easier understanding.'"
      ]
     },
     "execution_count": 11,
     "metadata": {},
     "output_type": "execute_result"
    }
   ],
   "source": [
    "paragraph"
   ]
  },
  {
   "cell_type": "code",
   "execution_count": 12,
   "id": "d0852e87",
   "metadata": {},
   "outputs": [
    {
     "data": {
      "text/plain": [
       "['To',\n",
       " 'the',\n",
       " 'people',\n",
       " 'of',\n",
       " 'India,',\n",
       " 'Dr',\n",
       " 'APJ',\n",
       " 'Abdul',\n",
       " 'Kalam',\n",
       " 'is',\n",
       " 'no',\n",
       " 'less',\n",
       " 'than',\n",
       " 'an',\n",
       " 'inspiration.',\n",
       " 'People',\n",
       " 'had',\n",
       " 'a',\n",
       " 'great',\n",
       " 'deal',\n",
       " 'of',\n",
       " 'admiration',\n",
       " 'for',\n",
       " 'him',\n",
       " 'and',\n",
       " 'addressed',\n",
       " 'him',\n",
       " 'as',\n",
       " 'Sir',\n",
       " 'APJ',\n",
       " 'Abdul',\n",
       " 'Kalam.',\n",
       " 'This',\n",
       " 'article',\n",
       " 'consists',\n",
       " 'of',\n",
       " '3',\n",
       " 'types',\n",
       " 'of',\n",
       " 'APJ',\n",
       " 'Abdul',\n",
       " 'Kalam',\n",
       " 'Speech',\n",
       " 'In',\n",
       " 'English',\n",
       " 'For',\n",
       " 'Students.',\n",
       " 'The',\n",
       " 'first',\n",
       " 'one',\n",
       " 'is',\n",
       " 'a',\n",
       " 'Long',\n",
       " 'APJ',\n",
       " 'Abdul',\n",
       " 'Kalam',\n",
       " 'Speech',\n",
       " 'meant',\n",
       " 'for',\n",
       " 'students',\n",
       " 'of',\n",
       " 'class',\n",
       " '9th',\n",
       " 'and',\n",
       " 'above.',\n",
       " 'The',\n",
       " 'second',\n",
       " 'one',\n",
       " 'is',\n",
       " 'the',\n",
       " 'usually',\n",
       " 'spoken',\n",
       " 'APJ',\n",
       " 'Abdul',\n",
       " 'Kalam',\n",
       " 'Speech',\n",
       " 'In',\n",
       " 'School',\n",
       " 'for',\n",
       " 'students',\n",
       " 'of',\n",
       " 'class',\n",
       " '5th',\n",
       " 'and',\n",
       " 'above',\n",
       " 'while',\n",
       " 'the',\n",
       " 'third',\n",
       " 'one',\n",
       " 'is',\n",
       " '10',\n",
       " 'lines',\n",
       " 'About',\n",
       " 'Abdul',\n",
       " 'Kalam',\n",
       " 'Speech',\n",
       " 'for',\n",
       " 'students',\n",
       " 'of',\n",
       " 'Class',\n",
       " '1',\n",
       " 'and',\n",
       " 'above',\n",
       " 'for',\n",
       " 'easier',\n",
       " 'understanding.']"
      ]
     },
     "execution_count": 12,
     "metadata": {},
     "output_type": "execute_result"
    }
   ],
   "source": [
    "paragraph.split(' ')"
   ]
  },
  {
   "cell_type": "code",
   "execution_count": 13,
   "id": "b8597330",
   "metadata": {},
   "outputs": [],
   "source": [
    "sent = nltk.sent_tokenize(paragraph)"
   ]
  },
  {
   "cell_type": "code",
   "execution_count": 14,
   "id": "1ca6d691",
   "metadata": {},
   "outputs": [
    {
     "data": {
      "text/plain": [
       "['To the people of India, Dr APJ Abdul Kalam is no less than an inspiration.',\n",
       " 'People had a great deal of admiration for him and addressed him as Sir APJ Abdul Kalam.',\n",
       " 'This article consists of 3 types of APJ Abdul Kalam Speech In English For Students.',\n",
       " 'The first one is a Long APJ Abdul Kalam Speech meant for students of class 9th and above.',\n",
       " 'The second one is the usually spoken APJ Abdul Kalam Speech In School for students of class 5th and above while the third one is 10 lines About Abdul Kalam Speech for students of Class 1 and above for easier understanding.']"
      ]
     },
     "execution_count": 14,
     "metadata": {},
     "output_type": "execute_result"
    }
   ],
   "source": [
    "sent"
   ]
  },
  {
   "cell_type": "code",
   "execution_count": 15,
   "id": "cfae99fa",
   "metadata": {},
   "outputs": [],
   "source": [
    "stemmer = PorterStemmer()"
   ]
  },
  {
   "cell_type": "code",
   "execution_count": 16,
   "id": "393730ef",
   "metadata": {},
   "outputs": [],
   "source": [
    "for i in range(len(sent)):\n",
    "    words = nltk.word_tokenize(sent[i])\n",
    "    words = [stemmer.stem(word) for word in words if word not in set(stopwords.words('english'))]\n",
    "    sent[i] = ' '.join(words)"
   ]
  },
  {
   "cell_type": "code",
   "execution_count": 17,
   "id": "ce014ba7",
   "metadata": {},
   "outputs": [
    {
     "data": {
      "text/plain": [
       "['to peopl india , dr apj abdul kalam less inspir .',\n",
       " 'peopl great deal admir address sir apj abdul kalam .',\n",
       " 'thi articl consist 3 type apj abdul kalam speech in english for student .',\n",
       " 'the first one long apj abdul kalam speech meant student class 9th .',\n",
       " 'the second one usual spoken apj abdul kalam speech in school student class 5th third one 10 line about abdul kalam speech student class 1 easier understand .']"
      ]
     },
     "execution_count": 17,
     "metadata": {},
     "output_type": "execute_result"
    }
   ],
   "source": [
    "sent"
   ]
  },
  {
   "cell_type": "code",
   "execution_count": 18,
   "id": "72b6bead",
   "metadata": {},
   "outputs": [],
   "source": [
    "#Lemmatization"
   ]
  },
  {
   "cell_type": "code",
   "execution_count": 19,
   "id": "d492855d",
   "metadata": {},
   "outputs": [],
   "source": [
    "sentence = nltk.sent_tokenize(paragraph)\n",
    "from nltk.stem import WordNetLemmatizer"
   ]
  },
  {
   "cell_type": "code",
   "execution_count": 20,
   "id": "168ef820",
   "metadata": {},
   "outputs": [],
   "source": [
    "lemmatizer = WordNetLemmatizer()"
   ]
  },
  {
   "cell_type": "code",
   "execution_count": 21,
   "id": "498780fe",
   "metadata": {},
   "outputs": [],
   "source": [
    "for i in range(len(sentence)):\n",
    "    words = nltk.word_tokenize(sentence[i])\n",
    "    words = [lemmatizer.lemmatize(word) for word in words if word not in set(stopwords.words('english'))]\n",
    "    sentence[i] = ' '.join(words)"
   ]
  },
  {
   "cell_type": "code",
   "execution_count": 22,
   "id": "82f65485",
   "metadata": {},
   "outputs": [
    {
     "data": {
      "text/plain": [
       "['To people India , Dr APJ Abdul Kalam le inspiration .',\n",
       " 'People great deal admiration addressed Sir APJ Abdul Kalam .',\n",
       " 'This article consists 3 type APJ Abdul Kalam Speech In English For Students .',\n",
       " 'The first one Long APJ Abdul Kalam Speech meant student class 9th .',\n",
       " 'The second one usually spoken APJ Abdul Kalam Speech In School student class 5th third one 10 line About Abdul Kalam Speech student Class 1 easier understanding .']"
      ]
     },
     "execution_count": 22,
     "metadata": {},
     "output_type": "execute_result"
    }
   ],
   "source": [
    "sentence"
   ]
  },
  {
   "cell_type": "code",
   "execution_count": null,
   "id": "b467658a",
   "metadata": {},
   "outputs": [],
   "source": []
  }
 ],
 "metadata": {
  "kernelspec": {
   "display_name": "Python 3 (ipykernel)",
   "language": "python",
   "name": "python3"
  },
  "language_info": {
   "codemirror_mode": {
    "name": "ipython",
    "version": 3
   },
   "file_extension": ".py",
   "mimetype": "text/x-python",
   "name": "python",
   "nbconvert_exporter": "python",
   "pygments_lexer": "ipython3",
   "version": "3.9.7"
  }
 },
 "nbformat": 4,
 "nbformat_minor": 5
}
